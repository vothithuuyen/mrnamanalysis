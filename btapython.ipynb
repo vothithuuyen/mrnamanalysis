{
 "cells": [
  {
   "cell_type": "code",
   "execution_count": 5,
   "metadata": {},
   "outputs": [
    {
     "name": "stdout",
     "output_type": "stream",
     "text": [
      "Giải phương trình bậc 1: ax+b=0\n",
      "Nhập a=2\n",
      "Nhập b=3\n",
      "Phương trình có nghiệm là:  -1.5\n"
     ]
    }
   ],
   "source": [
    "from math import sqrt\n",
    "print (\"Giải phương trình bậc 1: ax+b=0\")\n",
    "\n",
    "a= float(input (\"Nhập a=\"))\n",
    "b= float(input (\"Nhập b=\"))\n",
    "if a>0 or a<0:\n",
    "    x=-b/a\n",
    "    print(\"Phương trình có nghiệm là: \",x)\n",
    "else:\n",
    "    if b==0: print(\"Phương trình có vô số nghiệm\")\n",
    "    else :print (\"Phương trình vô nghiệm\")\n"
   ]
  },
  {
   "cell_type": "code",
   "execution_count": 7,
   "metadata": {},
   "outputs": [
    {
     "name": "stdout",
     "output_type": "stream",
     "text": [
      "Tính tổng s= 0+1+2+...+n\n",
      "Nhập số nguyên n=4\n",
      "Tổng là: 10\n"
     ]
    }
   ],
   "source": [
    "from math import sqrt\n",
    "print(\"Tính tổng s= 0+1+2+...+n\")\n",
    "\n",
    "n= int(input(\"Nhập số nguyên n=\"))\n",
    "i=0\n",
    "s=0\n",
    "while i<=n:\n",
    "    s=s+i\n",
    "    i=i+1\n",
    "print (\"Tổng là:\",s)\n",
    "    "
   ]
  },
  {
   "cell_type": "code",
   "execution_count": null,
   "metadata": {},
   "outputs": [],
   "source": []
  }
 ],
 "metadata": {
  "kernelspec": {
   "display_name": "Python 3",
   "language": "python",
   "name": "python3"
  },
  "language_info": {
   "codemirror_mode": {
    "name": "ipython",
    "version": 3
   },
   "file_extension": ".py",
   "mimetype": "text/x-python",
   "name": "python",
   "nbconvert_exporter": "python",
   "pygments_lexer": "ipython3",
   "version": "3.8.5"
  }
 },
 "nbformat": 4,
 "nbformat_minor": 4
}
